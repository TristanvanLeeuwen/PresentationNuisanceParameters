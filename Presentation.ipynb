{
 "cells": [
  {
   "cell_type": "markdown",
   "metadata": {
    "slideshow": {
     "slide_type": "slide"
    }
   },
   "source": [
    "# Estimating nuisance parameters in inverse problems"
   ]
  },
  {
   "cell_type": "markdown",
   "metadata": {
    "slideshow": {
     "slide_type": "fragment"
    }
   },
   "source": [
    "Based on \n",
    "\n",
    "* [Estimating nuisance parameters in inverse problems](https://iopscience.iop.org/article/10.1088/0266-5611/28/11/115016).\n",
    "A.Y. Aravkin and T. van Leeuwen. Inverse Problems (28:11)\n",
    "\n",
    "* [Variable Projection for NonSmooth Problems](https://epubs.siam.org/doi/abs/10.1137/20M1348650). T. van Leeuwen and A.Y. Aravkin. SIAM J. Sci. Comput. (accepted)"
   ]
  },
  {
   "cell_type": "markdown",
   "metadata": {
    "slideshow": {
     "slide_type": "subslide"
    }
   },
   "source": [
    "(Motivation)"
   ]
  },
  {
   "cell_type": "markdown",
   "metadata": {
    "slideshow": {
     "slide_type": "slide"
    }
   },
   "source": [
    "# Overview\n",
    "\n",
    "* General formulation\n",
    "* Variable projection\n",
    "* Examples\n",
    "* Wrap-up"
   ]
  },
  {
   "cell_type": "markdown",
   "metadata": {
    "slideshow": {
     "slide_type": "slide"
    }
   },
   "source": [
    "# General formulation"
   ]
  },
  {
   "cell_type": "markdown",
   "metadata": {
    "slideshow": {
     "slide_type": "subslide"
    }
   },
   "source": [
    "MAP estimation for inverse problems can be generally formulated as \n",
    "\n",
    "$$\\min_u F(u) + G(u),$$\n",
    "\n",
    "with $F(u) = -\\log \\pi_{\\text{data}}(u)$ and  $G(u) = -\\log \\pi_{\\text{prior}}(u)$."
   ]
  },
  {
   "cell_type": "markdown",
   "metadata": {
    "slideshow": {
     "slide_type": "subslide"
    }
   },
   "source": [
    "The densities often include parameters $\\theta$ (mean, variance, ...). This leads to \n",
    "\n",
    "$$\\min_{u,\\theta} F(u,\\theta) + G(u,\\theta) + H(\\theta),$$\n",
    "\n",
    "with $H(\\theta) = -\\log \\pi_{\\text{hyper}}(\\theta)$."
   ]
  },
  {
   "cell_type": "markdown",
   "metadata": {
    "slideshow": {
     "slide_type": "subslide"
    }
   },
   "source": [
    "> **Example: *Extended least-squares:***\n",
    "> $$\\min_{u,\\Sigma} m \\log |\\Sigma| + \\sum_{i=1}^m \\|K(u) - f^\\delta\\|_{\\Sigma^{-1}}^2.$$\n",
    "> Has a closed-form solution for fixed $u$:\n",
    "> $$\\Sigma = \\frac{1}{m}\\sum_{i}^m (K(u) - f^\\delta)(K(u) - f^\\delta)^T.$$"
   ]
  },
  {
   "cell_type": "markdown",
   "metadata": {
    "slideshow": {
     "slide_type": "subslide"
    }
   },
   "source": [
    "> **Example: *Robust data-fitting:***\n",
    "> $$\\min_{u,\\sigma^2} n\\log\\sigma + \\sum_{i=1}^n \\log\\left(1 + \\frac{r_i(u)^2}{\\sigma^2}\\right), \\quad r = K(u) - f.$$"
   ]
  },
  {
   "cell_type": "markdown",
   "metadata": {
    "slideshow": {
     "slide_type": "slide"
    }
   },
   "source": [
    "# Variable projection\n"
   ]
  },
  {
   "cell_type": "markdown",
   "metadata": {
    "slideshow": {
     "slide_type": "subslide"
    }
   },
   "source": [
    "Often, the nuisance parameters separate, and we can write\n",
    "\n",
    "$$\\min_u \\underbrace{\\min_\\alpha F(u,\\alpha)}_{\\overline{F}(u)} + \\underbrace{\\min_\\beta G(u,\\beta)}_{\\overline{G}(u)}.$$"
   ]
  },
  {
   "cell_type": "markdown",
   "metadata": {
    "slideshow": {
     "slide_type": "fragment"
    }
   },
   "source": [
    "and apply a proximal-gradient algorithm\n",
    "\n",
    "$$u_{k+1} = \\text{prox}_{\\lambda \\overline{G}} \\left(u_k - \\lambda \\nabla \\overline{F}(u)\\right).$$\n"
   ]
  },
  {
   "cell_type": "markdown",
   "metadata": {
    "slideshow": {
     "slide_type": "subslide"
    }
   },
   "source": [
    "## Derivative formula\n",
    "Assuming that $\\nabla_u F$ and $\\nabla_\\alpha F$ are Lipschitz-continuous and $F$ is $\\mu-$ strongly convex in $\\alpha$ for all $u$;"
   ]
  },
  {
   "cell_type": "markdown",
   "metadata": {
    "slideshow": {
     "slide_type": "fragment"
    }
   },
   "source": [
    "\n",
    "* $\\overline{\\alpha}(u) = \\text{arg}\\min_\\alpha F(u,\\alpha)$ is Lipschitz continuous \n",
    "* $\\nabla \\overline{F}(u) = \\left.\\nabla_u F(u,\\alpha)\\right|_{\\alpha = \\overline{\\alpha}(u)}.$\n",
    "* an approximate minimiser $\\widetilde{\\alpha}(u)$ yields an approximate gradient with\n",
    "\n",
    "$$\\|\\nabla F(u,\\overline{\\alpha}(u)) - \\nabla F(u,\\widetilde{\\alpha}(u))\\| \\leq L_{u\\alpha} \\|\\overline{\\alpha}(u) -\\widetilde{\\alpha}(u)\\|.$$"
   ]
  },
  {
   "cell_type": "markdown",
   "metadata": {
    "slideshow": {
     "slide_type": "subslide"
    }
   },
   "source": [
    "## Proximal operator"
   ]
  },
  {
   "cell_type": "markdown",
   "metadata": {
    "slideshow": {
     "slide_type": "subslide"
    }
   },
   "source": [
    "## Convergence results\n",
    "\n",
    "(Schmidt, Mark, Nicolas Le Roux, and Francis Bach. \"Convergence rates of inexact proximal-gradient methods for convex optimization.\" NeurIps (2011).)"
   ]
  },
  {
   "cell_type": "markdown",
   "metadata": {
    "slideshow": {
     "slide_type": "slide"
    }
   },
   "source": [
    "# Examples"
   ]
  },
  {
   "cell_type": "code",
   "execution_count": 117,
   "metadata": {
    "slideshow": {
     "slide_type": "skip"
    }
   },
   "outputs": [],
   "source": [
    "import numpy as np\n",
    "import matplotlib.pyplot as plt\n",
    "from skimage.color import rgb2gray\n",
    "from skimage import data\n",
    "from skimage.restoration import wiener, richardson_lucy, denoise_tv_chambolle\n",
    "from scipy.fft import fft2, ifft2\n",
    "from scipy.optimize import minimize"
   ]
  },
  {
   "cell_type": "markdown",
   "metadata": {
    "slideshow": {
     "slide_type": "subslide"
    }
   },
   "source": [
    "## Tikhonov regularisation\n",
    "\n",
    "Given $K \\in \\mathbb{R}^{m\\times n}$,\n",
    "\n",
    "$$\\min_{u,\\alpha,\\beta} \\alpha \\|Ku - f^\\delta\\|_2^2 + \\beta \\|Lu\\|_2^2 - m \\log \\alpha - n\\log\\beta.$$\n",
    "\n",
    "* $\\overline{\\alpha}(u) = m/ \\|Ku - f^\\delta\\|_2^2$, $\\overline{\\beta}(u) = n/ \\|Lu\\|_2^2.$"
   ]
  },
  {
   "cell_type": "markdown",
   "metadata": {
    "slideshow": {
     "slide_type": "subslide"
    }
   },
   "source": [
    "![](./figures/tikhonov1.png)"
   ]
  },
  {
   "cell_type": "markdown",
   "metadata": {
    "slideshow": {
     "slide_type": "subslide"
    }
   },
   "source": [
    "## Compressed sensing"
   ]
  },
  {
   "cell_type": "markdown",
   "metadata": {
    "slideshow": {
     "slide_type": "subslide"
    }
   },
   "source": [
    "## Total variation regularisation"
   ]
  },
  {
   "cell_type": "code",
   "execution_count": 157,
   "metadata": {
    "slideshow": {
     "slide_type": "skip"
    }
   },
   "outputs": [],
   "source": [
    "def K(inp,psf=[],mode='forward'):\n",
    "    n = inp.shape[0]\n",
    "    k_hat = fft2(psf,s=(n,n))\n",
    "    inp_hat = fft2(inp)\n",
    "    if mode == 'forward':\n",
    "        outp = ifft2(k_hat * inp_hat)\n",
    "    if mode == 'adjoint':\n",
    "        outp = ifft2(np.conj(k_hat) * inp_hat)\n",
    "    if mode == 'inv':\n",
    "        outp = ifft2( np.conj(k_hat) * inp_hat / ( np.conj(k_hat) * k_hat ) )\n",
    "        \n",
    "    return np.real(outp)\n",
    "\n",
    "def TV_decon(f, psf, alpha, lmbda, maxit = 100, tol=1e-3):\n",
    "    \"\"\"\n",
    "    TV deconvolution, solves: \n",
    "        \n",
    "        min_u 0.5*\\alpha*\\|Ku - f\\|_2^2 + TV(u)\n",
    "    \n",
    "    using a proximal gradient method.\n",
    "    \n",
    "    input:\n",
    "        f     - data, 2D array\n",
    "        psf   - psf to define forward operator K, 2D array\n",
    "        alpha - regularisation parameter, float\n",
    "        lmbda - stepsize for proximal gradient method, float\n",
    "        maxit - max. iteration count (default 100), integer\n",
    "        tol   - stopping tolerance (default 1e-3), float\n",
    "    \n",
    "    output:\n",
    "        u    - result, 2D array\n",
    "        hist - convergence history \\|u_{k} - u_{k-1}\\|, 1D array\n",
    "    \"\"\"\n",
    "    n = f.shape[0]*f.shape[1]\n",
    "    u = np.zeros(f.shape)\n",
    "    converged = False\n",
    "    hist = []\n",
    "    it = 0\n",
    "    while not converged:\n",
    "        r = K(u,psf,mode='forward') - f\n",
    "        if not alpha:\n",
    "            alpha = n/np.linalg.norm(r)**2\n",
    "        g = alpha*K(r,psf,mode='adjoint')\n",
    "        v = u - lmbda*g\n",
    "        up = denoise_tv_chambolle(v, weight = lmbda, eps=1e-6, n_iter_max=5000)\n",
    "        \n",
    "        du = np.linalg.norm(u - up)\n",
    "        it += 1\n",
    "        \n",
    "        converged = (du <= tol) or (it >= maxit)\n",
    "        hist.append(du)\n",
    "        u = up\n",
    "    return u, np.array(hist)\n",
    "\n",
    "def plot_images(images, titles, fname=[], scale = [0,1]):\n",
    "    m = len(images)\n",
    "    fig, ax = plt.subplots(1,m)\n",
    "    \n",
    "    if m > 1:\n",
    "        for k in range(m):\n",
    "            ax[k].set_xticks([])\n",
    "            ax[k].set_yticks([])\n",
    "            ax[k].imshow(images[k], cmap=plt.cm.gray, vmin=scale[0], vmax=scale[1])\n",
    "            ax[k].set_title(titles[k])\n",
    "    else:\n",
    "        ax.set_xticks([])\n",
    "        ax.set_yticks([])\n",
    "        ax.imshow(images[0], cmap=plt.cm.gray, vmin=scale[0], vmax=scale[1])\n",
    "        ax.set_title(titles[0])\n",
    "    fig.set_figwidth(10)\n",
    "    fig.tight_layout()\n",
    "    \n",
    "    if fname:\n",
    "        plt.savefig(fname,dpi=300)"
   ]
  },
  {
   "cell_type": "code",
   "execution_count": 165,
   "metadata": {},
   "outputs": [],
   "source": [
    "## settings\n",
    "n = 20\n",
    "sigma = 1e-2\n",
    "psf = np.ones((3,3)) / 9\n",
    "                \n",
    "# ground truth and data\n",
    "u = np.float32(data.binary_blobs(n))\n",
    "f_delta = K(u,psf=psf) + sigma*np.random.randn(n,n)"
   ]
  },
  {
   "cell_type": "code",
   "execution_count": 166,
   "metadata": {},
   "outputs": [
    {
     "name": "stdout",
     "output_type": "stream",
     "text": [
      "|Ku - f|/sqrt(n) = 0.15757198985192972\n"
     ]
    }
   ],
   "source": [
    "# reconstruct\n",
    "alpha = 1e2\n",
    "lmbda = 1e-2\n",
    "maxit = 2000\n",
    "u_est, hist = TV_decon(f_delta, psf, alpha, lmbda, maxit)\n",
    "\n",
    "print('|Ku - f|/sqrt(n) =', np.linalg.norm(K(u_est,psf=psf) - f_delta)/np.sqrt(n))"
   ]
  },
  {
   "cell_type": "code",
   "execution_count": 170,
   "metadata": {},
   "outputs": [
    {
     "data": {
      "text/plain": [
       "[<matplotlib.lines.Line2D at 0x1a31202e50>]"
      ]
     },
     "execution_count": 170,
     "metadata": {},
     "output_type": "execute_result"
    },
    {
     "data": {
      "image/png": "[encoded data removed]",
      "text/plain": [
       "<Figure size 432x288 with 1 Axes>"
      ]
     },
     "metadata": {
      "needs_background": "light"
     },
     "output_type": "display_data"
    }
   ],
   "source": [
    "plt.semilogy(hist)"
   ]
  },
  {
   "cell_type": "code",
   "execution_count": 167,
   "metadata": {},
   "outputs": [
    {
     "data": {
      "image/png": "[encoded data removed]",
      "text/plain": [
       "<Figure size 720x288 with 3 Axes>"
      ]
     },
     "metadata": {},
     "output_type": "display_data"
    }
   ],
   "source": [
    "# plot\n",
    "plot_images([u, f_delta,u_est], [r'$u$', r'$f^\\delta$',r'$\\widetilde{u}$'])"
   ]
  },
  {
   "cell_type": "markdown",
   "metadata": {
    "slideshow": {
     "slide_type": "subslide"
    }
   },
   "source": [
    "## Robust data-fitting"
   ]
  },
  {
   "cell_type": "markdown",
   "metadata": {
    "slideshow": {
     "slide_type": "subslide"
    }
   },
   "source": [
    "## Graphical lasso"
   ]
  },
  {
   "cell_type": "markdown",
   "metadata": {
    "slideshow": {
     "slide_type": "slide"
    }
   },
   "source": [
    "# Wrap-up\n",
    "\n",
    "* ...\n",
    "* ..."
   ]
  },
  {
   "cell_type": "code",
   "execution_count": null,
   "metadata": {},
   "outputs": [],
   "source": []
  }
 ],
 "metadata": {
  "celltoolbar": "Slideshow",
  "kernelspec": {
   "display_name": "Python 3",
   "language": "python",
   "name": "python3"
  },
  "language_info": {
   "codemirror_mode": {
    "name": "ipython",
    "version": 3
   },
   "file_extension": ".py",
   "mimetype": "text/x-python",
   "name": "python",
   "nbconvert_exporter": "python",
   "pygments_lexer": "ipython3",
   "version": "3.7.6"
  }
 },
 "nbformat": 4,
 "nbformat_minor": 4
}
