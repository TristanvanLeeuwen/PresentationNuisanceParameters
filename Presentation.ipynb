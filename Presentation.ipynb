{
 "cells": [
  {
   "cell_type": "markdown",
   "metadata": {
    "slideshow": {
     "slide_type": "slide"
    }
   },
   "source": [
    "# Estimating nuisance parameters in inverse problems"
   ]
  },
  {
   "cell_type": "markdown",
   "metadata": {
    "slideshow": {
     "slide_type": "fragment"
    }
   },
   "source": [
    "Based on \n",
    "\n",
    "* [Estimating nuisance parameters in inverse problems](https://iopscience.iop.org/article/10.1088/0266-5611/28/11/115016).\n",
    "A.Y. Aravkin and T. van Leeuwen. Inverse Problems (28:11)\n",
    "\n",
    "* [Variable Projection for NonSmooth Problems](https://epubs.siam.org/doi/abs/10.1137/20M1348650). T. van Leeuwen and A.Y. Aravkin. SIAM J. Sci. Comput. (accepted)"
   ]
  },
  {
   "cell_type": "markdown",
   "metadata": {
    "slideshow": {
     "slide_type": "subslide"
    }
   },
   "source": [
    "(Motivation)"
   ]
  },
  {
   "cell_type": "markdown",
   "metadata": {
    "slideshow": {
     "slide_type": "slide"
    }
   },
   "source": [
    "# Overview\n",
    "\n",
    "* General formulation\n",
    "* Variable projection\n",
    "* Examples\n",
    "* Wrap-up"
   ]
  },
  {
   "cell_type": "markdown",
   "metadata": {
    "slideshow": {
     "slide_type": "slide"
    }
   },
   "source": [
    "# General formulation"
   ]
  },
  {
   "cell_type": "markdown",
   "metadata": {
    "slideshow": {
     "slide_type": "subslide"
    }
   },
   "source": [
    "MAP estimation for inverse problems can be generally formulated as \n",
    "\n",
    "$$\\min_u F(u) + G(u),$$\n",
    "\n",
    "with $F(u) = -\\log \\pi_{\\text{data}}(u)$ and  $G(u) = -\\log \\pi_{\\text{prior}}(u)$."
   ]
  },
  {
   "cell_type": "markdown",
   "metadata": {
    "slideshow": {
     "slide_type": "subslide"
    }
   },
   "source": [
    "The densities often include parameters $\\theta$ (mean, variance, ...). This leads to \n",
    "\n",
    "$$\\min_{u,\\theta} F(u,\\theta) + G(u,\\theta) + H(\\theta),$$\n",
    "\n",
    "with $H(\\theta) = -\\log \\pi_{\\text{hyper}}(\\theta)$."
   ]
  },
  {
   "cell_type": "markdown",
   "metadata": {
    "slideshow": {
     "slide_type": "subslide"
    }
   },
   "source": [
    "> **Example: *Extended least-squares:***\n",
    "> $$\\min_{u,\\Sigma} m \\log |\\Sigma| + \\sum_{i=1}^m \\|K(u) - f^\\delta\\|_{\\Sigma^{-1}}^2.$$\n",
    "> Has a closed-form solution for fixed $u$:\n",
    "> $$\\Sigma = \\frac{1}{m}\\sum_{i}^m (K(u) - f^\\delta)(K(u) - f^\\delta)^T.$$"
   ]
  },
  {
   "cell_type": "markdown",
   "metadata": {
    "slideshow": {
     "slide_type": "subslide"
    }
   },
   "source": [
    "> **Example: *Robust data-fitting:***\n",
    "> $$\\min_{u,\\sigma^2} n\\log\\sigma + \\sum_{i=1}^n \\log\\left(1 + \\frac{r_i(u)^2}{\\sigma^2}\\right), \\quad r = K(u) - f.$$"
   ]
  },
  {
   "cell_type": "markdown",
   "metadata": {
    "slideshow": {
     "slide_type": "slide"
    }
   },
   "source": [
    "# Variable projection\n"
   ]
  },
  {
   "cell_type": "markdown",
   "metadata": {
    "slideshow": {
     "slide_type": "subslide"
    }
   },
   "source": [
    "Often, the nuisance parameters separate, and we can write\n",
    "\n",
    "$$\\min_u \\underbrace{\\min_\\alpha F(u,\\alpha)}_{\\overline{F}(u)} + \\underbrace{\\min_\\beta G(u,\\beta)}_{\\overline{G}(u)}.$$"
   ]
  },
  {
   "cell_type": "markdown",
   "metadata": {
    "slideshow": {
     "slide_type": "fragment"
    }
   },
   "source": [
    "and apply a proximal-gradient algorithm\n",
    "\n",
    "$$u_{k+1} = \\text{prox}_{\\lambda \\overline{G}} \\left(u_k - \\lambda \\nabla \\overline{F}(u)\\right).$$\n"
   ]
  },
  {
   "cell_type": "markdown",
   "metadata": {
    "slideshow": {
     "slide_type": "subslide"
    }
   },
   "source": [
    "## Derivative formula\n",
    "Assuming that $\\nabla_u F$ and $\\nabla_\\alpha F$ are Lipschitz-continuous and $F$ is $\\mu-$ strongly convex in $\\alpha$ for all $u$;"
   ]
  },
  {
   "cell_type": "markdown",
   "metadata": {
    "slideshow": {
     "slide_type": "fragment"
    }
   },
   "source": [
    "\n",
    "* $\\overline{\\alpha}(u) = \\text{arg}\\min_\\alpha F(u,\\alpha)$ is Lipschitz continuous \n",
    "* $\\nabla \\overline{F}(u) = \\left.\\nabla_u F(u,\\alpha)\\right|_{\\alpha = \\overline{\\alpha}(u)}.$\n",
    "* an approximate minimiser $\\widetilde{\\alpha}(u)$ yields an approximate gradient with\n",
    "\n",
    "$$\\|\\nabla F(u,\\overline{\\alpha}(u)) - \\nabla F(u,\\widetilde{\\alpha}(u))\\| \\leq L_{u\\alpha} \\|\\overline{\\alpha}(u) -\\widetilde{\\alpha}(u)\\|.$$"
   ]
  },
  {
   "cell_type": "markdown",
   "metadata": {
    "slideshow": {
     "slide_type": "subslide"
    }
   },
   "source": [
    "## Proximal operator"
   ]
  },
  {
   "cell_type": "markdown",
   "metadata": {
    "slideshow": {
     "slide_type": "subslide"
    }
   },
   "source": [
    "## Convergence results\n",
    "\n",
    "(Schmidt, Mark, Nicolas Le Roux, and Francis Bach. \"Convergence rates of inexact proximal-gradient methods for convex optimization.\" NeurIps (2011).)"
   ]
  },
  {
   "cell_type": "markdown",
   "metadata": {
    "slideshow": {
     "slide_type": "slide"
    }
   },
   "source": [
    "# Examples"
   ]
  },
  {
   "cell_type": "markdown",
   "metadata": {
    "slideshow": {
     "slide_type": "subslide"
    }
   },
   "source": [
    "## Tikhonov regularisation\n",
    "\n",
    "Given $K \\in \\mathbb{R}^{m\\times n}$,\n",
    "\n",
    "$$\\min_{u,\\alpha,\\beta} \\alpha \\|Ku - f^\\delta\\|_2^2 + \\beta \\|u\\|_2^2 - m \\log \\alpha - n\\log\\beta.$$\n",
    "\n",
    "* $\\overline{\\alpha}(u) = m/ \\|Ku - f^\\delta\\|_2^2$, $\\overline{\\beta}(u) = n/ \\|u\\|_2^2.$"
   ]
  },
  {
   "cell_type": "code",
   "execution_count": 79,
   "metadata": {
    "slideshow": {
     "slide_type": "skip"
    }
   },
   "outputs": [],
   "source": [
    "import numpy as np\n",
    "from scipy.optimize import minimize\n",
    "from skimage.color import rgb2gray\n",
    "from skimage import data\n",
    "from scipy.fft import fft2, ifft2\n",
    "import matplotlib.pyplot as plt\n",
    "\n",
    "\n",
    "def K(inp,psf=[],mode='forward'):\n",
    "    N = inp.shape[0]\n",
    "    n = int(np.sqrt(N))\n",
    "    k_hat = fft2(psf,s=(n,n))\n",
    "    inp_hat = fft2(inp.reshape((n,n)))\n",
    "    if mode == 'forward':\n",
    "        outp = ifft2(k_hat * inp_hat)\n",
    "    if mode == 'adjoint':\n",
    "        outp = ifft2(np.conj(k_hat) * inp_hat)\n",
    "        \n",
    "    return np.real(outp).flatten()\n",
    "\n",
    "def val(u, *args):\n",
    "    f, psf, reg = args\n",
    "    n = len(u)\n",
    "    m = len(f)\n",
    "    Ku = K(u,psf=psf)\n",
    "    Lu = K(u,psf=reg)\n",
    "    \n",
    "    alpha = m/np.linalg.norm(Ku - f)**2\n",
    "    beta = n/np.linalg.norm(Lu)**2\n",
    "    \n",
    "    return m - m*np.log(alpha) + n - n*np.log(beta)\n",
    "    #return np.linalg.norm(Ku - f)**2 + np.linalg.norm(Lu)**2\n",
    "def grad(u, *args):\n",
    "    f, psf, reg = args\n",
    "    n = len(u)\n",
    "    m = len(f)\n",
    "    Ku = K(u,psf=psf)\n",
    "    Lu = K(u,psf=reg)\n",
    "    \n",
    "    alpha = m/np.linalg.norm(Ku - f)**2\n",
    "    beta = n/np.linalg.norm(Lu)**2\n",
    "    \n",
    "    return 2*alpha*K(Ku - f,psf=psf,mode='adjoint') + 2*beta*K(Lu,psf=reg,mode='adjoint')\n",
    "    #return 2*K(Ku - f,psf=psf,mode='adjoint') + 2*K(Lu,psf=reg,mode='adjoint')\n",
    "\n",
    "def plot_images(images, titles, fname=[], scale = [0,1]):\n",
    "    m = len(images)\n",
    "    fig, ax = plt.subplots(1,m)\n",
    "    \n",
    "    if m > 1:\n",
    "        for k in range(m):\n",
    "            ax[k].set_xticks([])\n",
    "            ax[k].set_yticks([])\n",
    "            N = len(images[0])\n",
    "            n = int(np.sqrt(N))\n",
    "            ax[k].imshow(images[k].reshape((n,n)), cmap=plt.cm.gray, vmin=scale[0], vmax=scale[1])\n",
    "            ax[k].set_title(titles[k])\n",
    "    else:\n",
    "        ax.set_xticks([])\n",
    "        ax.set_yticks([])\n",
    "        N = len(images[0])\n",
    "        n = int(np.sqrt(N))\n",
    "        ax.imshow(images[0].reshape((n,n)), cmap=plt.cm.gray, vmin=scale[0], vmax=scale[1])\n",
    "        ax.set_title(titles[0])\n",
    "    fig.set_figwidth(10)\n",
    "    fig.tight_layout()\n",
    "    \n",
    "    if fname:\n",
    "        plt.savefig(fname,dpi=300)"
   ]
  },
  {
   "cell_type": "code",
   "execution_count": 101,
   "metadata": {},
   "outputs": [
    {
     "name": "stdout",
     "output_type": "stream",
     "text": [
      "0.3749930250504879\n",
      "5.686950091855512e-15\n"
     ]
    },
    {
     "data": {
      "image/png": "[encoded data removed]",
      "text/plain": [
       "<Figure size 720x288 with 3 Axes>"
      ]
     },
     "metadata": {},
     "output_type": "display_data"
    }
   ],
   "source": [
    "## settings\n",
    "n = 10\n",
    "sigma = 1e-3\n",
    "psf = np.ones((5, 5)) / 25\n",
    "reg = np.array([[0,1,0],[1,-4,1],[0,1,0]])\n",
    "                \n",
    "# ground truth and data\n",
    "u = np.float32(data.binary_blobs(n)).flatten()\n",
    "f_delta = K(u,psf=psf) + sigma*np.random.randn(n*n)\n",
    "\n",
    "# solve\n",
    "u0 = K(f_delta, psf=psf, mode = 'adjoint')\n",
    "opt = {}\n",
    "opt['maxiter'] = 1000\n",
    "result = minimize(val, u0, args = (f_delta,psf,reg), method = 'CG', jac = grad, tol = 1e-3, options=opt)\n",
    "u_hat = result.x\n",
    "\n",
    "print(np.linalg.norm(K(u_hat,psf=psf) - f_delta)/np.sqrt(n))\n",
    "print(np.linalg.norm(K(u_hat,psf=reg))/np.sqrt(n))\n",
    "\n",
    "# plot\n",
    "plot_images([u,f_delta,u_hat],['$u$','$f^\\delta$','$\\widehat{u}$'], fname='./figures/tikhonov1.png')"
   ]
  },
  {
   "cell_type": "code",
   "execution_count": 94,
   "metadata": {},
   "outputs": [
    {
     "data": {
      "text/plain": [
       "     fun: -34632.987796153495\n",
       "     jac: array([-344.05966721,  131.39991817, -311.77184216, ..., -556.24399549,\n",
       "        246.44360788,  -90.45010898])\n",
       " message: 'Maximum number of iterations has been exceeded.'\n",
       "    nfev: 1502\n",
       "     nit: 1000\n",
       "    njev: 1502\n",
       "  status: 1\n",
       " success: False\n",
       "       x: array([0.41690865, 0.41505663, 0.41370467, ..., 0.4181777 , 0.41490983,\n",
       "       0.41231069])"
      ]
     },
     "execution_count": 94,
     "metadata": {},
     "output_type": "execute_result"
    }
   ],
   "source": [
    "result"
   ]
  },
  {
   "cell_type": "markdown",
   "metadata": {
    "slideshow": {
     "slide_type": "subslide"
    }
   },
   "source": [
    "![](./figures/tikhonov1.png)"
   ]
  },
  {
   "cell_type": "markdown",
   "metadata": {
    "slideshow": {
     "slide_type": "subslide"
    }
   },
   "source": [
    "## Compressed sensing"
   ]
  },
  {
   "cell_type": "markdown",
   "metadata": {
    "slideshow": {
     "slide_type": "subslide"
    }
   },
   "source": [
    "## Robust data-fitting"
   ]
  },
  {
   "cell_type": "markdown",
   "metadata": {
    "slideshow": {
     "slide_type": "subslide"
    }
   },
   "source": [
    "## Graphical lasso"
   ]
  },
  {
   "cell_type": "markdown",
   "metadata": {
    "slideshow": {
     "slide_type": "slide"
    }
   },
   "source": [
    "# Wrap-up\n",
    "\n",
    "* ...\n",
    "* ..."
   ]
  },
  {
   "cell_type": "code",
   "execution_count": null,
   "metadata": {},
   "outputs": [],
   "source": []
  }
 ],
 "metadata": {
  "celltoolbar": "Slideshow",
  "kernelspec": {
   "display_name": "Python 3",
   "language": "python",
   "name": "python3"
  },
  "language_info": {
   "codemirror_mode": {
    "name": "ipython",
    "version": 3
   },
   "file_extension": ".py",
   "mimetype": "text/x-python",
   "name": "python",
   "nbconvert_exporter": "python",
   "pygments_lexer": "ipython3",
   "version": "3.7.6"
  }
 },
 "nbformat": 4,
 "nbformat_minor": 4
}
